{
 "cells": [
  {
   "cell_type": "markdown",
   "id": "dd8e1502-82c3-4a9c-ba1b-8c738926886e",
   "metadata": {},
   "source": [
    "Creating class, Object and function method creation:"
   ]
  },
  {
   "cell_type": "code",
   "execution_count": 6,
   "id": "c4aa8904-5357-4147-b835-d501aa3bdbd0",
   "metadata": {},
   "outputs": [
    {
     "name": "stdout",
     "output_type": "stream",
     "text": [
      "Hello Mr.Sivaraman and your age is 27\n"
     ]
    }
   ],
   "source": [
    "class Greetings():\n",
    "    def __init__(self, name, age):\n",
    "        self.__name = name\n",
    "        self.__age = age\n",
    "\n",
    "    def access_name_print(self):\n",
    "        print(f\"Hello Mr.{self.__name} and your age is {self.__age}\")\n",
    "\n",
    "siva = Greetings(\"Sivaraman\", 27)\n",
    "siva.access_name_print()"
   ]
  },
  {
   "cell_type": "markdown",
   "id": "7535e839-3b72-4357-bdbc-991994e99ee4",
   "metadata": {},
   "source": [
    "Creating the Bank application with account creation, withdraw, deposit and return balance:"
   ]
  },
  {
   "cell_type": "code",
   "execution_count": 18,
   "id": "56fa85cd-6b85-4945-9a81-512e6c06fd02",
   "metadata": {},
   "outputs": [
    {
     "name": "stdout",
     "output_type": "stream",
     "text": [
      "We Processing your request....\n",
      "Your requested amount ₹350 from the account was debited\n",
      "\"Insufficient Balance\" \n",
      " Hi Sivaraman your Balance is ₹650\n",
      "{'name': 'Sivaraman', 'age': 27, 'Balance': '₹650'}\n",
      "We Processing your request....\n",
      "Your requested amount ₹350 from the account was debited\n",
      "We Processing your request....\n",
      "Your requested amount ₹100 from the account was debited\n",
      "{'name': 'Venkatesh', 'age': 27, 'Balance': '₹2550'}\n"
     ]
    }
   ],
   "source": [
    "class BankCreation():\n",
    "    def __init__(self, name, age, email, mobilenumber):\n",
    "        self.__name = name\n",
    "        self.__age = age\n",
    "        self.__email = email\n",
    "        self.__mobileNumber = mobilenumber\n",
    "        self.__withdraw = 0\n",
    "        self.__balance = 0\n",
    "    \n",
    "    def deposit(self, amountReceived):\n",
    "        self.__balance += amountReceived\n",
    "    \n",
    "    def withdraw(self, requestedWithdrawAmount):\n",
    "        \n",
    "        if requestedWithdrawAmount < self.__balance:\n",
    "            processing = True\n",
    "            while processing:\n",
    "                print(\"We Processing your request....\")\n",
    "                self.__balance -= requestedWithdrawAmount\n",
    "                processing = False\n",
    "            print(f\"Your requested amount ₹{requestedWithdrawAmount} from the account was debited\")\n",
    "            \n",
    "        else:\n",
    "            print(f\"\\\"Insufficient Balance\\\" \\n Hi {self.__name} your Balance is ₹{self.__balance}\")\n",
    "    \n",
    "    def get_account_details(self):\n",
    "        return {\n",
    "            \"name\": self.__name,\n",
    "            \"age\": self.__age,\n",
    "            \"Balance\": f\"₹{self.__balance}\"\n",
    "        }\n",
    "\n",
    "\n",
    "siva_bank = BankCreation(\"Sivaraman\", 27, \"siva@gmail.com\", \"7598216496\")\n",
    "siva_bank.deposit(1000)\n",
    "siva_bank.withdraw(350)\n",
    "siva_bank.withdraw(800)\n",
    "print(siva_bank.get_account_details())\n",
    "\n",
    "venki_bank = BankCreation(\"Venkatesh\", 27, \"venki@gmail.com\", \"8903621198\")\n",
    "venki_bank.deposit(1000)\n",
    "venki_bank.withdraw(350)\n",
    "venki_bank.withdraw(100)\n",
    "venki_bank.deposit(2000)\n",
    "print(venki_bank.get_account_details())"
   ]
  },
  {
   "cell_type": "code",
   "execution_count": null,
   "id": "ee389b50-d622-4c15-ab3c-0092acf0a6ca",
   "metadata": {},
   "outputs": [],
   "source": []
  }
 ],
 "metadata": {
  "kernelspec": {
   "display_name": "Python 3 (ipykernel)",
   "language": "python",
   "name": "python3"
  },
  "language_info": {
   "codemirror_mode": {
    "name": "ipython",
    "version": 3
   },
   "file_extension": ".py",
   "mimetype": "text/x-python",
   "name": "python",
   "nbconvert_exporter": "python",
   "pygments_lexer": "ipython3",
   "version": "3.11.4"
  }
 },
 "nbformat": 4,
 "nbformat_minor": 5
}
