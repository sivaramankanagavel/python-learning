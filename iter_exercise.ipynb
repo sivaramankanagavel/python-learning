{
 "cells": [
  {
   "cell_type": "raw",
   "id": "00dddc9b-d532-42b6-bf3e-0359b3501bf0",
   "metadata": {},
   "source": [
    "product:"
   ]
  },
  {
   "cell_type": "code",
   "execution_count": 1,
   "id": "41915f02-8b71-45da-8354-e96a1ddbaf6a",
   "metadata": {},
   "outputs": [
    {
     "name": "stdout",
     "output_type": "stream",
     "text": [
      "[(1, 4), (1, 5), (2, 4), (2, 5), (3, 4), (3, 5)]\n"
     ]
    }
   ],
   "source": [
    "from itertools import product\n",
    "\n",
    "list_1 = [1, 2, 3]\n",
    "list_2 = [4, 5]\n",
    "product_list = product(list_1, list_2)\n",
    "print(list(product_list))"
   ]
  },
  {
   "cell_type": "raw",
   "id": "ae806ae5-1093-4010-bc96-695dacb7c100",
   "metadata": {},
   "source": [
    "permutation:"
   ]
  },
  {
   "cell_type": "code",
   "execution_count": 4,
   "id": "c13b786c-76ed-41f9-922c-600f91af7f05",
   "metadata": {},
   "outputs": [
    {
     "name": "stdout",
     "output_type": "stream",
     "text": [
      "[(1, 2), (1, 3), (2, 1), (2, 3), (3, 1), (3, 2)]\n"
     ]
    }
   ],
   "source": [
    "from itertools import permutations\n",
    "\n",
    "list_1 = [1, 2, 3]\n",
    "permutation_result = permutations(list_1, 2)\n",
    "print(list(permutation_result))"
   ]
  },
  {
   "cell_type": "markdown",
   "id": "bc18c0d9-cac8-4a4e-81d2-97da3930ca5f",
   "metadata": {},
   "source": [
    "combinations:"
   ]
  },
  {
   "cell_type": "markdown",
   "id": "ca5fea24-e404-4f8b-830a-9b3ce9fa791b",
   "metadata": {},
   "source": [
    "from itertools import combinations\n",
    "\n",
    "list_1 = [1, 2, 3]\n",
    "combinations_result = combinations(list_1, 2)\n",
    "print(list(combinations_result))"
   ]
  },
  {
   "cell_type": "markdown",
   "id": "107d4c29-b795-4ad5-aa25-ea0b3b251c0c",
   "metadata": {},
   "source": [
    "combinations with replacement:"
   ]
  },
  {
   "cell_type": "code",
   "execution_count": 7,
   "id": "7d343f63-41f2-45a7-a66b-220457aa0d80",
   "metadata": {},
   "outputs": [
    {
     "name": "stdout",
     "output_type": "stream",
     "text": [
      "[(1, 1), (1, 2), (1, 3), (2, 2), (2, 3), (3, 3)]\n"
     ]
    }
   ],
   "source": [
    "from itertools import combinations_with_replacement\n",
    "\n",
    "list_1 = [1, 2, 3]\n",
    "combinations_with_replacement_result = combinations_with_replacement(list_1, 2)\n",
    "print(list(combinations_with_replacement_result))"
   ]
  },
  {
   "cell_type": "markdown",
   "id": "0d2c532c-67f0-42ba-ad9b-40862ceb7546",
   "metadata": {},
   "source": [
    "accumulate sum:"
   ]
  },
  {
   "cell_type": "code",
   "execution_count": 8,
   "id": "2e32d2ee-21aa-4849-a888-242cfd112545",
   "metadata": {},
   "outputs": [
    {
     "name": "stdout",
     "output_type": "stream",
     "text": [
      "[1, 3, 6, 10, 15]\n"
     ]
    }
   ],
   "source": [
    "from itertools import accumulate\n",
    "\n",
    "list_1 = [1, 2, 3, 4, 5]\n",
    "accumulate_result = accumulate(list_1)\n",
    "print(list(accumulate_result))"
   ]
  },
  {
   "cell_type": "markdown",
   "id": "dfcffcea-cdec-41df-8ae9-96828b8a4d6f",
   "metadata": {},
   "source": [
    "accumulate multiplication:"
   ]
  },
  {
   "cell_type": "code",
   "execution_count": 9,
   "id": "fe84be01-0884-47f7-9a46-9ad28116678a",
   "metadata": {},
   "outputs": [
    {
     "name": "stdout",
     "output_type": "stream",
     "text": [
      "[1, 2, 6, 24, 120]\n"
     ]
    }
   ],
   "source": [
    "from itertools import accumulate\n",
    "\n",
    "list_1 = [1, 2, 3, 4, 5]\n",
    "accumulate_result = accumulate(list_1, lambda x, y: x * y)\n",
    "print(list(accumulate_result))"
   ]
  },
  {
   "cell_type": "markdown",
   "id": "dacff860-087a-4076-83e6-172a51882d2f",
   "metadata": {},
   "source": [
    "groupby:"
   ]
  },
  {
   "cell_type": "code",
   "execution_count": 14,
   "id": "65f00da3-8e2e-43cc-8cca-0ff135009461",
   "metadata": {},
   "outputs": [
    {
     "name": "stdout",
     "output_type": "stream",
     "text": [
      "True [1, 2, 3]\n",
      "False [4, 5, 6, 7]\n"
     ]
    }
   ],
   "source": [
    "from itertools import groupby\n",
    "\n",
    "list_1 = [1, 2, 3, 4, 5, 6, 7]\n",
    "groupby_result = groupby(list_1, lambda x: x < 4)\n",
    "for key, value in groupby_result:\n",
    "    print(key, list(value))"
   ]
  },
  {
   "cell_type": "markdown",
   "id": "70de444b-df08-4d1c-9c77-551c8f5ce4e1",
   "metadata": {},
   "source": [
    "count, cycle, repeat:"
   ]
  },
  {
   "cell_type": "code",
   "execution_count": null,
   "id": "ac9ab8e0-ed44-42b3-b567-d4fa554dcad7",
   "metadata": {},
   "outputs": [],
   "source": [
    "from itertools import count, cycle, repeat\n",
    "\n",
    "list_1 = [1, 2, 3, 4, 5, 7, 2, 3, 1, 5]\n",
    "\n",
    "counter_1 = count(5)\n",
    "for num in counter_1:\n",
    "    print(num)\n",
    "    if num == 10:\n",
    "        break\n",
    "\n",
    "cycle_1 = cycle(list_1)\n",
    "for item in cycle_1:\n",
    "    print(item)\n",
    "    break\n",
    "\n",
    "repeat_1 = repeat(23, 2)\n",
    "for i in repeat_1:\n",
    "    print(i)"
   ]
  },
  {
   "cell_type": "code",
   "execution_count": null,
   "id": "58509184-6cfe-4b47-9aa0-f1e58674953e",
   "metadata": {},
   "outputs": [],
   "source": []
  }
 ],
 "metadata": {
  "kernelspec": {
   "display_name": "Python 3 (ipykernel)",
   "language": "python",
   "name": "python3"
  },
  "language_info": {
   "codemirror_mode": {
    "name": "ipython",
    "version": 3
   },
   "file_extension": ".py",
   "mimetype": "text/x-python",
   "name": "python",
   "nbconvert_exporter": "python",
   "pygments_lexer": "ipython3",
   "version": "3.11.4"
  }
 },
 "nbformat": 4,
 "nbformat_minor": 5
}
